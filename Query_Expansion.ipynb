{
  "nbformat": 4,
  "nbformat_minor": 0,
  "metadata": {
    "colab": {
      "provenance": [],
      "authorship_tag": "ABX9TyMLKdiykBGEG7q+CIJMTzHO",
      "include_colab_link": true
    },
    "kernelspec": {
      "name": "python3",
      "display_name": "Python 3"
    },
    "language_info": {
      "name": "python"
    }
  },
  "cells": [
    {
      "cell_type": "markdown",
      "metadata": {
        "id": "view-in-github",
        "colab_type": "text"
      },
      "source": [
        "<a href=\"https://colab.research.google.com/github/ArpitRawat07/Query_Expansion/blob/main/Query_Expansion.ipynb\" target=\"_parent\"><img src=\"https://colab.research.google.com/assets/colab-badge.svg\" alt=\"Open In Colab\"/></a>"
      ]
    },
    {
      "cell_type": "code",
      "source": [
        "import pandas as pd\n",
        "import numpy as np\n",
        "import nltk\n",
        "from sklearn.metrics import accuracy_score\n",
        "from sklearn.preprocessing import LabelEncoder\n",
        "from nltk.corpus import stopwords\n",
        "from sklearn.neighbors import NearestCentroid\n",
        "from sklearn.metrics.pairwise import cosine_similarity\n",
        "from sklearn.feature_extraction.text import TfidfVectorizer\n",
        "from sklearn.metrics import classification_report\n",
        "from sklearn.model_selection import train_test_split\n",
        "from nltk.stem import WordNetLemmatizer\n",
        "from sklearn.decomposition import TruncatedSVD\n",
        "from collections import Counter\n",
        "\n",
        "# Loading the dataset containing news\n",
        "news_df = pd.read_csv('BBCNews.csv')"
      ],
      "metadata": {
        "id": "3IjBd23t83DY"
      },
      "execution_count": null,
      "outputs": []
    },
    {
      "cell_type": "code",
      "source": [
        "\n",
        "# Define synonyms for the different types of news\n",
        "synonyms = {\n",
        "    'sports': ['sports', 'athletics', 'games', 'competitions', 'matches', 'cricket', 'football', 'soccer', 'hockey'],\n",
        "    'politics': ['politics', 'government', 'elections', 'democracy', 'parliament', 'congress', 'senate', 'leadership'],\n",
        "    'entertainment': ['entertainment', 'celebrities', 'movies', 'films', 'television', 'music', 'arts', 'culture'],\n",
        "    'technology': ['technology', 'science', 'innovation', 'computers', 'gadgets', 'internet', 'artificial intelligence', 'cybersecurity'],\n",
        "    'business': ['business', 'economy', 'finance', 'markets', 'investment', 'commerce', 'trade', 'industry']\n",
        "}\n",
        "\n"
      ],
      "metadata": {
        "id": "h8aN5cbdDaKb"
      },
      "execution_count": null,
      "outputs": []
    },
    {
      "cell_type": "code",
      "source": [
        "# Downloading necessary NLTK resources\n",
        "nltk.download('omw-1.4')#\"Open Multilingual WordNet,\"\n",
        "nltk.download('punkt')\n",
        "nltk.download('stopwords')\n",
        "nltk.download('wordnet')"
      ],
      "metadata": {
        "colab": {
          "base_uri": "https://localhost:8080/"
        },
        "id": "WKOXs-oULBJg",
        "outputId": "875eda1d-8a0c-44f7-c7f3-fbdadc903aba"
      },
      "execution_count": null,
      "outputs": [
        {
          "output_type": "stream",
          "name": "stderr",
          "text": [
            "[nltk_data] Downloading package omw-1.4 to /root/nltk_data...\n",
            "[nltk_data]   Package omw-1.4 is already up-to-date!\n",
            "[nltk_data] Downloading package punkt to /root/nltk_data...\n",
            "[nltk_data]   Package punkt is already up-to-date!\n",
            "[nltk_data] Downloading package stopwords to /root/nltk_data...\n",
            "[nltk_data]   Package stopwords is already up-to-date!\n",
            "[nltk_data] Downloading package wordnet to /root/nltk_data...\n",
            "[nltk_data]   Package wordnet is already up-to-date!\n"
          ]
        },
        {
          "output_type": "execute_result",
          "data": {
            "text/plain": [
              "True"
            ]
          },
          "metadata": {},
          "execution_count": 59
        }
      ]
    },
    {
      "cell_type": "code",
      "source": [
        "\n",
        "# Reading the CSV file and preprocessing the data\n",
        "lemmatizer = WordNetLemmatizer()\n",
        "\n",
        "def preprocess(text):\n",
        "    generatedTokens = nltk.word_tokenize(text)\n",
        "    generatedTokens = [token.lower() for token in generatedTokens if token.isalpha()]\n",
        "    generatedTokens = [lemmatizer.lemmatize(token) for token in generatedTokens if token not in stopwords.words('english')]\n",
        "    return ' '.join(generatedTokens)\n",
        "\n",
        "news_df['tags'] = news_df['tags'].astype(str)\n",
        "news_df['tags'] = news_df['tags'].apply(lambda x: preprocess(x) if isinstance(x, str) else '')\n",
        "news_df['descr'] = news_df['descr'].astype(str)\n",
        "news_df['descr'] = news_df['descr'].apply(lambda x: preprocess(x) if isinstance(x, str) else '')\n",
        "\n"
      ],
      "metadata": {
        "id": "jmzxo6n0KZ7Y"
      },
      "execution_count": null,
      "outputs": []
    },
    {
      "cell_type": "code",
      "source": [
        "print(news_df.tags)"
      ],
      "metadata": {
        "colab": {
          "base_uri": "https://localhost:8080/"
        },
        "id": "XttcFCHRMUol",
        "outputId": "680c3c34-101f-49fa-8d53-ef52349bda8c"
      },
      "execution_count": null,
      "outputs": [
        {
          "output_type": "stream",
          "name": "stdout",
          "text": [
            "0       sport stamford bridge football association fif...\n",
            "1       sport madrid birmingham france scotland united...\n",
            "2       sport derby brazil tunnel fracasedu food footb...\n",
            "3       sport bbc united kingdom ireland brian eddie r...\n",
            "4       sport liverpool daily sport millennium stadium...\n",
            "                              ...                        \n",
            "2405    business zurich fiat reuters financial time ge...\n",
            "2406    agroflora reuters vestey group venezuela unite...\n",
            "2407    business jacksonville kraft food gim credit u ...\n",
            "2408    environment business yangtze electric power ya...\n",
            "2409    politics environment algiers el watan algeria ...\n",
            "Name: tags, Length: 2410, dtype: object\n"
          ]
        }
      ]
    },
    {
      "cell_type": "code",
      "source": [
        "# Define a function to map each category to its base type\n",
        "def get_base_category(tag):\n",
        "    tag_list = tag.split(' ')\n",
        "    for t in tag_list:\n",
        "      for base_category, syn_list in synonyms.items():\n",
        "        if t.lower() in syn_list:\n",
        "            return base_category\n",
        "    return 'other'\n"
      ],
      "metadata": {
        "id": "SMiYkM7CDXge"
      },
      "execution_count": null,
      "outputs": []
    },
    {
      "cell_type": "code",
      "source": [
        "from collections import Counter\n",
        "\n",
        "def preprocess_news(news_df):\n",
        "    # Remove null values\n",
        "    news_df = news_df.dropna()\n",
        "    # Map each tag to its base category\n",
        "    news_df['tags'] = news_df['tags'].apply(get_base_category)\n",
        "    print(news_df['tags'])\n",
        "\n",
        "    # Creating an object of TF-IDF vectorizer\n",
        "    tfidf_Vectorizer = TfidfVectorizer()\n",
        "\n",
        "    # Fit + Transform the description\n",
        "    X_train_vec = tfidf_Vectorizer.fit_transform(news_df['descr'])\n",
        "\n",
        "    # Apply dimensionality reduction using Latent Semantic Analysis (LSA)\n",
        "    lsa = TruncatedSVD(n_components=100, algorithm='arpack')\n",
        "    X_train_lsa = lsa.fit_transform(X_train_vec)\n",
        "\n",
        "    # Compute cosine similarity between all pairs of documents\n",
        "    similarity_matrix = cosine_similarity(X_train_lsa)\n",
        "\n",
        "    # Define a label encoder to convert categories to integers\n",
        "    le = LabelEncoder()\n",
        "\n",
        "    # Fit the label encoder on the unique categories in the dataset\n",
        "    le.fit(news_df['tags'].unique())\n",
        "\n",
        "    # Map each tag to its base category\n",
        "    news_df['tags'] = news_df['tags'].apply(get_base_category)\n",
        "\n",
        "    # Convert the categories to integers using the label encoder\n",
        "    labels = le.transform(news_df['tags'].values)\n",
        "    predicted_labels = []\n",
        "    for i in range(len(similarity_matrix)):\n",
        "        # Sort the similarity scores for the ith document in descending order and get the top k indices\n",
        "        k = 10\n",
        "        top_k_idx = similarity_matrix[i].argsort()[::-1][:k]\n",
        "        # similarity_matrix[i].argsort()-> sorts the i'th row of similarity matrix\n",
        "        # and then returns an array containing the indices of every element\n",
        "        # (i.e. returns the indices of the sorted i'th row)\n",
        "        # [::-1]->reverses the retrieved indexes(i.e. we get the indexes in descending order)\n",
        "        # [:k]-> slicing and getting top k indices\n",
        "\n",
        "        # Get the categories for the top k documents\n",
        "        top_k_categories = labels[top_k_idx]\n",
        "\n",
        "        # Find the most common category among the top k categories\n",
        "        predicted_category = np.bincount(top_k_categories, minlength=len(synonyms)).argmax()\n",
        "        predicted_labels.append(predicted_category)\n",
        "    accuracy = (predicted_labels == labels).mean()\n",
        "    print(\"Accuracy: \", accuracy * 100, \"%\")\n",
        "\n",
        "    # User query\n",
        "    query = input(\"Enter your query: \")\n",
        "\n",
        "    # Transform the query using the same vectorizer\n",
        "    query_vector = tfidf_Vectorizer.transform([query])\n",
        "\n",
        "    # Calculate cosine similarities between the query vector and documents\n",
        "    query_similarity = cosine_similarity(query_vector, X_train_vec)\n",
        "\n",
        "    # Retrieve the indices of the top relevant documents\n",
        "    top_k_docs_idx = np.argsort(-query_similarity.ravel())[:k]\n",
        "\n",
        "    # Get the corresponding predicted labels for the top documents\n",
        "    top_k_predicted_labels = [predicted_labels[i] for i in top_k_docs_idx]\n",
        "\n",
        "    # Count the occurrences of predicted labels\n",
        "    label_counts = Counter(top_k_predicted_labels)\n",
        "\n",
        "    # Select the top N frequent labels as expanded queries\n",
        "    num_expanded_queries = 10  # Define the number of expanded queries to display\n",
        "    expanded_queries = label_counts.most_common(num_expanded_queries)\n",
        "\n",
        "    # This loop prints the expanded queries along with the count of relevant news articles for each query. It also ensures that only unique news articles are printed by using a set to keep track of seen articles.\n",
        "    print(\"Expanded Queries:\")\n",
        "    for query, count in expanded_queries:\n",
        "        print(le.inverse_transform([query])[0], \":\", count)\n",
        "        print(\"Relevant News Articles:\")\n",
        "        unique_docs = set()\n",
        "        for idx in top_k_docs_idx:\n",
        "            if predicted_labels[idx] == query and news_df['descr'].iloc[idx] not in unique_docs:\n",
        "                unique_docs.add(news_df['descr'].iloc[idx])\n",
        "                print(news_df['descr'].iloc[idx])\n",
        "                print('-' * 50)\n",
        "\n",
        "    # Splitting the labels into training and testing sets\n",
        "    train_idx = np.random.choice(len(labels), int(len(labels)*0.8), replace=False)\n",
        "    test_idx = np.setdiff1d(range(len(labels)), train_idx)\n",
        "    X_train = similarity_matrix[train_idx, :]\n",
        "    y_train = labels[train_idx]\n",
        "    X_test = similarity_matrix[test_idx, :]\n",
        "    y_test = labels[test_idx]\n",
        "\n",
        "    # Fit a Nearest Centroid classifier to the training data\n",
        "    clfr = NearestCentroid()\n",
        "    clfr.fit(X_train, y_train)\n",
        "\n",
        "    # Test the classifier on new data\n",
        "    yPred = clfr.predict(X_test)\n",
        "\n",
        "    # Evaluating the performance of the classifier using y_test and y_pred\n",
        "    print(classification_report(y_test, yPred))\n",
        "\n",
        "    # Calculate the accuracy of the classifier\n",
        "    finalAccuracy = accuracy_score(y_test, yPred)\n",
        "    print(\"Accuracy: \", finalAccuracy*100, \"%\")\n"
      ],
      "metadata": {
        "id": "hvQu1B1Bo-Jr"
      },
      "execution_count": null,
      "outputs": []
    },
    {
      "cell_type": "code",
      "source": [
        "\n",
        "# # Clean and preprocess the news data\n",
        "# def preprocess_news(news_df):\n",
        "#     # Remove null values\n",
        "#     news_df = news_df.dropna()\n",
        "\n",
        "#     # Map each tag to its base category\n",
        "#     news_df['tags'] = news_df['tags'].apply(get_base_category)\n",
        "#     print(news_df['tags'])\n",
        "#     # Creating an object of TF-IDF vectorizer\n",
        "#     tfidf_Vectorizer = TfidfVectorizer()\n",
        "\n",
        "#     # Fit + Transform the description\n",
        "#     X_train_vec = tfidf_Vectorizer.fit_transform(news_df['descr'])\n",
        "\n",
        "#     # Apply dimensionality reduction using Latent Semantic Analysis (LSA)\n",
        "#     lsa = TruncatedSVD(n_components=100, algorithm='arpack')\n",
        "#     X_train_lsa = lsa.fit_transform(X_train_vec)\n",
        "\n",
        "#     # Compute cosine similarity between all pairs of documents\n",
        "#     similarity_matrix = cosine_similarity(X_train_lsa)\n",
        "\n",
        "\n",
        "#     # Define a label encoder to convert categories to integers\n",
        "#     le = LabelEncoder()\n",
        "\n",
        "#     # Fit the label encoder on the unique categories in the dataset\n",
        "#     le.fit(news_df['tags'].unique())\n",
        "\n",
        "#     # Map each tag to its base category\n",
        "#     news_df['tags'] = news_df['tags'].apply(get_base_category)\n",
        "\n",
        "#     # Convert the categories to integers using the label encoder\n",
        "#     labels = le.transform(news_df['tags'].values)\n",
        "#     predicted_labels = []\n",
        "#     for i in range(len(similarity_matrix)):\n",
        "#         # Sort the similarity scores for the ith document in descending order and get the top k indices\n",
        "#         k = 10\n",
        "#         top_k_idx = similarity_matrix[i].argsort()[::-1][:k]\n",
        "        # similarity_matrix[i].argsort()-> sorts the i'th row of similarity matrix\n",
        "        # and then returns an array containing the indices of every element\n",
        "        # (i.e. returns the indices of the sorted i'th row)\n",
        "        # [::-1]->reverses the retrieved indexes(i.e. we get the indexes in descending order)\n",
        "        # [:k]-> slicing and getting top k indices\n",
        "\n",
        "        # Get the categories for the top k documents\n",
        "#         top_k_categories = labels[top_k_idx]\n",
        "#         # Find the most common category among the top k categories\n",
        "#         predicted_category = np.bincount(top_k_categories, minlength=len(synonyms)).argmax()\n",
        "\n",
        "#         predicted_labels.append(predicted_category)\n",
        "\n",
        "#     # Calculating the accuracy of the model before rochio's feedback\n",
        "#     accuracy = (predicted_labels == labels).mean()\n",
        "#     # print(f\"Accuracy: {accuracy}\")\n",
        "#     print(\"Accuracy: \",accuracy*100,\"%\")\n",
        "#     print(\"------------------------------------------------------------------------------\")\n",
        "\n",
        "\n",
        "#     # Splitting the labels into training and testing sets\n",
        "#     train_idx = np.random.choice(len(labels), int(len(labels)*0.8), replace=False)\n",
        "#     test_idx = np.setdiff1d(range(len(labels)), train_idx)\n",
        "#     X_train = similarity_matrix[train_idx, :]\n",
        "#     y_train = labels[train_idx]\n",
        "#     X_test = similarity_matrix[test_idx, :]\n",
        "#     y_test = labels[test_idx]\n",
        "\n",
        "#     # Fit a Nearest Centroid classifier to the training data\n",
        "#     clfr = NearestCentroid()\n",
        "#     clfr.fit(X_train, y_train)\n",
        "\n",
        "#     # Test the classifier on new data\n",
        "#     yPred = clfr.predict(X_test)\n",
        "\n",
        "#     # Evaluating the performance of the classifier using y_test and y_pred\n",
        "#     print(classification_report(y_test, yPred))\n",
        "\n",
        "\n",
        "#     # Calculate the accuracy of the classifier\n",
        "#     finalAccuracy = accuracy_score(y_test, yPred)\n",
        "#     print(\"Accuracy: \",finalAccuracy*100,\"%\")\n",
        "\n"
      ],
      "metadata": {
        "id": "zFTrXjiZDQlh"
      },
      "execution_count": null,
      "outputs": []
    },
    {
      "cell_type": "code",
      "source": [
        "preprocess_news(news_df)"
      ],
      "metadata": {
        "colab": {
          "base_uri": "https://localhost:8080/"
        },
        "id": "q7ObTKKJ9Lcq",
        "outputId": "eb36a4a6-7b72-4d30-c25d-a18a3badf0ac"
      },
      "execution_count": null,
      "outputs": [
        {
          "output_type": "stream",
          "name": "stdout",
          "text": [
            "0         sports\n",
            "1         sports\n",
            "2         sports\n",
            "3          other\n",
            "4         sports\n",
            "          ...   \n",
            "2405    business\n",
            "2406    politics\n",
            "2407    business\n",
            "2408    business\n",
            "2409    politics\n",
            "Name: tags, Length: 2410, dtype: object\n",
            "Accuracy:  88.09128630705393 %\n",
            "Enter your query: football\n",
            "Expanded Queries:\n",
            "sports : 9\n",
            "Relevant News Articles:\n",
            "legendary dutch bos michels dy legendary dutch coach rinus michels man credited developing total football died aged referred netherlands general michels led dutch world cup reached final lose germany however guided side european championship title win soviet union final michels played ajax coached side four national title european cup dutch team built around johan cruyff johan neeskens introduced concept total football world strategy foster team coherence individual imagination player possessing skill play part pitch cruyff onfield organiser team whose player rotated defence encouraged play creative attacking football michels recently undergone heart surgery dutch football federation knvb spokesman frank huizinga said one best coach history nononsense coach also enjoyed spell barcelona took spanish title fc cologne bayer leverkusen michels named coach century world football governing body fifa also five cap netherlands bruising centre forward dutch sport minister clemence rossvan dorp said man together cruyff made dutch football big\n",
            "--------------------------------------------------\n",
            "football manager score big time past decade virtual football fan among u become used annual helping championship manager cm indeed seems like cm game many year pc however last year final time developer sport interactive si publisher eidos would work together decided go separate way kept piece franchise si kept game code database eidos retained right cm brand look feel game beginning year fan faced new situation eidos announced next cm game new team develop scratch whilst si developed existing code released new publisher sega name football manager mean well football manager spiritual successor cm series released earlier expected point cm look like ship early next year given football manager large game everybody know love new version shape game like fm could blind statistic obscene number playable league obscene number manageable team really obscene number player staff around world database stats faithfully researched compiled loyal army fan justice game really talking realistic satisfying football management game ever grace earth begin picking nation league want manage team instance england scotland give choice four main scottish league english premiership way conference north south course might looking european glory get hold abramovichs million case take control chelsea even barcelona real madrid ac milan list go long way team told board expect sometimes promotion place europe sometimes consolidation brave relegation battle might even case champion else obviously expectation linked team choose choose wisely time look squad work tactic seeing much cash got splash look transfer market sorting training schedule making sure backroom staff bring match available everimproving top view exception improved user interface surface much else seems changed however lot change bonnet well thing like manager mindgames let talk medium opposition boss match engine also much improved joy ever watch fact every area game tweaked lead ever immersive experience game complex openended course glitch nowhere near sort problem blighted previous release many calculation perform game take time process match though improvement area sport like football high profile unpredictable never modelled quite everybodys satisfaction time around great deal hard work put ensure oddity crop cosmetic affect gameplay problem line sport interactive indicated usual willingness support develop game far possible many tweak improvement fan previous cm game fm might make forget anything else new genre like idea trying take margate premiership spur europe even putting ranger back top tree fm could best purchase ever made warned family might see much christmas football manager pc mac\n",
            "--------------------------------------------------\n",
            "souness back smith scotland graeme souness belief walter smith would perfect choice succeed berti vogts scotland manager sounesss former assistant ranger hot favourite take vogts resigned monday walter definitely ideal candidate job hed perfect souness told bbc sport scottish football association appointed tommy burn provisional caretakerboss friendly sweden november fit bill knowledge understanding scotland team football experienced successful souness added walter real football person know working ibrox top proper human would command instant respect player everyone involved scottish football souness joined sir alex ferguson backing smith claim scottish football association embark search vogts successor appointing tommy burn caretaker capacity ferguson said smith would outstanding candidate far im concerned need somebody know theyre walter would bring wealth experience job man utd bos continued dont know credential needed job job need lot experience assistant scotland manchester united also managed glasgow ranger would need change whole shape scottish football radical change needed smith assistant ferguson world cup mexico former everton ranger bos game since spell manchester united assistant last term bbc sport understands smith would willing discus taking approached scottish fa tempted take seems almost certain smith longtime righthand man archie knox would also play part national team setup smith already backing many pundit fan including former scotland manager craig brown brown said walter outstanding candidate without doubt would admirable choice spoke sunday got impression would take asking positive candidate job include former scotland midfielders gordon strachan gary mcallister vogts assistant tommy burn\n",
            "--------------------------------------------------\n",
            "anelka eye man city departure striker nicolas anelka reportedly want leave manchester city search champion league football anelka talk contract extension beyond city believed fear career go stale stay club news world report anelka told french magazine either decide win title easy life think always choose football great club make offer added win title need player capability stagnate eighth th place impossible progress going score goal win risk going create feeling fed anelka earned reputation difficult character handle spell arsenal real madrid paris st germain feel coming back haunt talk sign extension contract said well sporting aspect also come account playing eighth place good miss champion league real madrid need playing playing im thing happened past nothing football dont blame anyone bit fault\n",
            "--------------------------------------------------\n",
            "wenger step row arsene wenger stepped feud sir alex ferguson claiming manchester united manager guilty bringing football disrepute pair longrunning row put back headline saturday ferguson said arsenal counterpart disgrace wenger initially refused bite back saying never answer question man claim ferguson punished football association latest twist fergusonwenger saga came saturday united bos interview independent newspaper discussed event game two side october united day old trafford game followed notorious food fight saw fergusons clothes covered soup pizza side meet highbury february tunnel wenger criticising player calling cheat told leave alone behave ferguson said saturday ran hand raised saying want apologise behaviour player another manager unthinkable disgrace dont expect wenger ever apologise he type person allegation put wenger saturday game bolton arsenal lost slip point behind chelsea title race first said ive always consistent story told nothing happened talk talk want make newspaper article make newspaper article doesnt interest doesnt matter never answer provocation like england anyway go abroad one day see later saturday according independent wenger spoke smaller group reporter expanded reaction diplomatic relation arsenal bos quoted saying dont understand want press foot situation concerning food fight judged game going month manager responsibility protect game game england punished say game whole story start dont go game play football football manager love football matter people say reminded ferguson called disgrace wenger added dont respond anything england good phrase bringing game disrepute game well game ferguson also claimed united chief executive david gill arsenal vicechairman david dein agreed boardroom level discus incident public ferguson added ensuing week got diatribe arsenal kicked pitch nonsense gill phoned dein three time complain nothing done return february come another diatribe david gill feel set record straight arsenal written u apologise would let happen meanwhile league manager association offered act peacemaker hope resolving ongoing row stormy game october united striker ruud van nistelrooy caught arsenal ashley cole one particularly strong tackle wenger later accused van nistelrooy cheating fined severely reprimanded football association ferguson admitted saturday van nistelrooys tackle earned dutchman ban could given cole serious injury belief arsenal main aggressor wenger always complaining match played right spirit added worst loser time dont know lose maybe manchester united dont lose many game team tend forget worst disciplinary record time arsenal last season fairness improved seen paragon virtue wenger never happens dream nightmare\n",
            "--------------------------------------------------\n",
            "jamieson issue warning bigot scotland justice minister warned bigoted soccer fan want hit hurt banning match cathy jamieson said exclusion order one series measure considered scottish executive campaign sectarianism praised celtic ranger work tackling problem however minister said stopping sectarian abuse associated old firm match key objective m jamieson speaking ahead third round scottish cup clash glasgow club parkhead sunday sectarianism long associated section support club become significant target executive last week m jamieson first minister jack mcconnell met supporter representative club discus issue plan hold antisectarian summit next month official club church leader senior police officer local authority chief among invited speaking bbc radio scotland sunday live programme m jamieson described friday meeting productive said putting squeeze bigot would key aim m jamieson stressed sectarianism confined football act trigger tension violence club taken action past ban troublesome fan supporter group expressed desire ensure game longer tainted problem m jamieson said executive role tackling soccer troublemaker said cant get away fact instance religious hatred people try associate football boil violence kind thing want stop thats kind thing supporter group clear dont want part either work u try deal m jamieson praised police action said police want identify whether particular individual going top inciting hatred violence crack effectively course already indicated consider introduction banning order give additional power people going top made inappropriate behaviour football match able stop attending game thats kind thing hit kind people hurt allowing attend game said praising celtic ranger effort said dont think doubt seen positive move club ranger celtic football club involved working executive produce example educational pack young people\n",
            "--------------------------------------------------\n",
            "hong kong world cup bid hong kong hoping join japan cohost rugby world cup japan applied host tournament aim taking outside rugby traditional stronghold first time hong kong rugby football union hkrfu chairman john molloy called territory host one pool quarterfinal japanese rugby football union jrfu say yet receive formal presentation hkrfu stage considering hosting event said jrfu secretary koji tokumasu examine proposal unless get definitive form japan face stiff competition form south africa new zealand host event seven year time world cup held country six nation trinations said tokumasu think irb think time rugby go global japan ready host tournament looking forward welcoming world rugby japan tokumasu added football world cup cohosted japan south korea huge success well infrastructure place japan also commercial clout host one sport top competition said last year japan launched first professional rugby league fourth largest number registered player world england south africa france\n",
            "--------------------------------------------------\n",
            "hodgson relish european clash former blackburn bos roy hodgson say premiership follow rest europe winter break insists gruelling domestic schedule damage english elite bid champion league glory hodgson charge viking stavanger liverpool clash bayer leverkusen anfield tuesday member uefas technical committee hodgson fierce advocate winter break employed throughout europe although england champion league contender ploughed heavy fixture list hodgson told bbc sport belief premiership embrace idea expect cost english representative last champion league feel difficult say certainty team break definite edge fervent supporter break give player chance recharge battery midway season suggest give team advantage champion league school thought suggests break coming back put disadvantage bigger discussion around winter break nature football today need football player way premiership developed rather one two match champion league february hodgson belief winter break carry many advantage explaining said perfect chance recharge battery certainly still manager england would supporting call introduction preseason get lot enthusiasm energy time get towards christmas many player also played plenty international match club country travelled lot find getting jaded break give chance recover energy enthusiasm perhaps importantly recover mental strength break get ready game ahead mental side far important thing hodgson added length break vary italy break short took christmas new year short didnt anything gave player week day training week day went game longer important responsible physical fitness give player programme follow ensure physical strength accumulated stay hodgson belief winter break would positive step premiership said talk football elite level premiership would support winter break examine demand premier league particular player play international football club country break would world good physically mentally\n",
            "--------------------------------------------------\n",
            "business : 1\n",
            "Relevant News Articles:\n",
            "man utd open book glazer manchester uniteds board agreed give u tycoon malcolm glazer access book earlier month mr glazer presented board detailed proposal offer buy football club statement club said would allow mr glazer limited due diligence give opportunity take proposal formal bid said continued oppose mr glazer plan calling assumption aggressive plan damaging many manchester uniteds supporter share club fanbased group shareholder united strongly opposed takeover mr glazer fan protested outside old trafford ground two day ago rival local club manchester city pleaded visiting fan protest inside ground two team play televised match sunday manchester uniteds response come little surprise board made clear board responsibility consider bona fide offer proposal club said statement become firm offer price board likely regard fair term may deliverable also stressed stayed opposed mr glazer proposal board continues believe mr glazer business plan assumption aggressive statement said direct indirect financial strain business could damaging whether bid attractive monetary term case manchester united many investor hold stock sentimental rather financial reason present mr glazer family hold stake making manchester uniteds second biggest shareholder successful tampa bay buccaneer american football team based florida family make formal offer need support club biggest shareholder irish horse racing millionaire jp mcmanus john magnier united investment vehicle cubic expression yet express view bid approach group five mp calling department trade industry block takeover club u football magnate public interest ground signed house common motion tony lloyd manchester central mp whose constituency includes club old trafford ground pledged take matter tony blair necessary common motion say takeover designed transform club private company would interest supporter football however dti dismissed proposal spokesman said department believe case changing enterprise act takeover football club could looked noncompetition ground mr glazer offer value club bn pitched p per share also relies le debt finance earlier approach u tycoon rejected hand manchester united share closed p friday p day\n",
            "--------------------------------------------------\n",
            "              precision    recall  f1-score   support\n",
            "\n",
            "           0       0.91      0.80      0.85        98\n",
            "           1       0.97      0.86      0.91        86\n",
            "           2       0.68      0.53      0.60        32\n",
            "           3       0.85      0.91      0.87        85\n",
            "           4       0.83      0.84      0.84        76\n",
            "           5       0.80      0.96      0.87       105\n",
            "\n",
            "    accuracy                           0.85       482\n",
            "   macro avg       0.84      0.82      0.82       482\n",
            "weighted avg       0.86      0.85      0.85       482\n",
            "\n",
            "Accuracy:  85.26970954356847 %\n"
          ]
        }
      ]
    },
    {
      "cell_type": "code",
      "source": [],
      "metadata": {
        "id": "WNFg1VsebQJL"
      },
      "execution_count": null,
      "outputs": []
    }
  ]
}